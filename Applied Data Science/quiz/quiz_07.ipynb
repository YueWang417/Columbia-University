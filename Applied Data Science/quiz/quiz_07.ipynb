{
 "cells": [
  {
   "cell_type": "markdown",
   "metadata": {
    "slideshow": {
     "slide_type": "slide"
    }
   },
   "source": [
    "# quiz_07\n",
    "\n",
    "## Yue Wang - yw3930"
   ]
  },
  {
   "cell_type": "markdown",
   "metadata": {},
   "source": [
    "### Instructions\n",
    "\n",
    "Replace the Name and UNI in cell above and the notebook name\n",
    "\n",
    "Replace all '____' below using the instructions provided.\n",
    "\n",
    "When completed, \n",
    " - make sure you've replaced Name and UNI in the first cell and filename (eg: week_08_quiz-hw2592)\n",
    " - Click the github link shared on canvas for quiz8 to generate your own repository of quiz8\n",
    " - Click your own repository of quiz8 to commit your answers to github"
   ]
  },
  {
   "cell_type": "code",
   "execution_count": 1,
   "metadata": {},
   "outputs": [],
   "source": [
    "# import numpy as np and pandas as pd\n",
    "import numpy as np\n",
    "import pandas as pd"
   ]
  },
  {
   "cell_type": "code",
   "execution_count": 10,
   "metadata": {},
   "outputs": [
    {
     "name": "stdout",
     "output_type": "stream",
     "text": [
      "<class 'pandas.core.frame.DataFrame'>\n",
      "RangeIndex: 1000 entries, 0 to 999\n",
      "Data columns (total 3 columns):\n",
      " #   Column        Non-Null Count  Dtype         \n",
      "---  ------        --------------  -----         \n",
      " 0   DocumentDate  1000 non-null   datetime64[ns]\n",
      " 1   PropertyType  956 non-null    object        \n",
      " 2   SqFtLot       975 non-null    float64       \n",
      "dtypes: datetime64[ns](1), float64(1), object(1)\n",
      "memory usage: 23.6+ KB\n"
     ]
    }
   ],
   "source": [
    "# Read in data from data/week8_housing_data.csv and store as dataframe df.\n",
    "# This data includes a column datetaime column DocumentDate. \n",
    "# Use parse_dates to parse this column into datetimes\n",
    "# Print df.info() to see the number of rows, column names, column datatypes and amount of missing data.\n",
    "\n",
    "# df = pd.read_csv('../data/week8_housing_data.csv',parse_dates=['DocumentDate'])\n",
    "df = pd.read_csv('/Users/yuewang/Desktop/43:Applied DS/week8_housing_data.csv',parse_dates=['DocumentDate'])\n",
    "df.info()"
   ]
  },
  {
   "cell_type": "code",
   "execution_count": 6,
   "metadata": {},
   "outputs": [
    {
     "name": "stdout",
     "output_type": "stream",
     "text": [
      "Duplicated Rows:0      False\n",
      "1      False\n",
      "2      False\n",
      "3      False\n",
      "4      False\n",
      "       ...  \n",
      "995    False\n",
      "996    False\n",
      "997    False\n",
      "998    False\n",
      "999    False\n",
      "Length: 1000, dtype: bool\n",
      "Number of Duplicated Rows: 9\n"
     ]
    }
   ],
   "source": [
    "# If we run df.duplicated() we get a vector of booleans that indicate duplicated rows.\n",
    "# Print df.duplicated() and .sum() to get the number of duplicated rows (there should be 9).\n",
    "\n",
    "print(f\"Duplicated Rows:{df.duplicated()}\")\n",
    "\n",
    "print(f\"Number of Duplicated Rows: {df.duplicated().sum()}\")"
   ]
  },
  {
   "cell_type": "code",
   "execution_count": 11,
   "metadata": {},
   "outputs": [
    {
     "data": {
      "text/plain": [
       "(991, 3)"
      ]
     },
     "execution_count": 11,
     "metadata": {},
     "output_type": "execute_result"
    }
   ],
   "source": [
    "# Use drop_duplicates() to drop the duplicated rows inplace.\n",
    "# Check the entire row (subset=None) and keep the first duplicate (keep='first')\n",
    "df.drop_duplicates(subset=None, keep='first', inplace=True)\n",
    "\n",
    "# Print df.shape to confirm rows were dropped (num rows should now be 991).\n",
    "df.shape"
   ]
  },
  {
   "cell_type": "code",
   "execution_count": 12,
   "metadata": {},
   "outputs": [],
   "source": [
    "# From the .info() above, we see there are missing values in SqFtLot.\n",
    "# Before we fill this column, create a new column 'SqFtLot_missing' in df.\n",
    "# This column should contain integers, 1 for missing, 0 for not missing.\n",
    "# Use .isna() and .astype(int) to create the 'SqFtLot_missing' column.\n",
    "df['SqFtLot_missing'] = df['SqFtLot'].isna().astype(int)\n",
    "\n",
    "# Assert that the sum of the SqFtLot_missing column equals the number of missing values in SqFtLot\n",
    "assert df['SqFtLot_missing'].sum() == df['SqFtLot'].isna().sum()\n",
    "\n",
    "# Assert that the dtype of SqFtLot_missing is int\n",
    "assert df.SqFtLot_missing.dtype == int"
   ]
  },
  {
   "cell_type": "code",
   "execution_count": 13,
   "metadata": {},
   "outputs": [],
   "source": [
    "# Now fill the missing values in df.SqFtLot with the mean of the SqFtLot column.\n",
    "# Use .fillna() and .mean()\n",
    "# Be sure to either use inplace or store back into the existing SqFtLot column.\n",
    "df['SqFtLot'].fillna(df['SqFtLot'].mean(), inplace=True)\n",
    "\n",
    "# Assert that the SqFtLot column no longer contains any missing values (number of missing values == 0)\n",
    "assert df.SqFtLot.isna().sum() == 0"
   ]
  },
  {
   "cell_type": "code",
   "execution_count": 14,
   "metadata": {},
   "outputs": [
    {
     "name": "stdout",
     "output_type": "stream",
     "text": [
      "       SqFtLot  SqFtLot_scaled\n",
      "mean  16335.78            -0.0\n",
      "std   43717.98             1.0\n"
     ]
    }
   ],
   "source": [
    "# Standardize the SqFtLot column using the sklearn StandardScaler\n",
    "\n",
    "# Import StandardScaler from sklearn.preprocessing\n",
    "from sklearn.preprocessing import StandardScaler\n",
    "\n",
    "# Use fit_transform() on the SqFtLot column only.\n",
    "# NOTE: fit_transform requires a 2D matrix. Use df[['SqFtLot']] to pass a dataframe instead of a series.\n",
    "# Store the transformed values back into a new column 'SqFtLot_scaled' in df.\n",
    "scaler = StandardScaler()\n",
    "df['SqFtLot_scaled'] = scaler.fit_transform(df[['SqFtLot']])\n",
    "\n",
    "# Call .agg(['mean','std']).round(2) on SqFtLot and SqFtLot_scaled columns \n",
    "#   to confirm the scaling has operated as expected.\n",
    "print(df[['SqFtLot','SqFtLot_scaled']].agg(['mean','std']).round(2))"
   ]
  },
  {
   "cell_type": "code",
   "execution_count": 15,
   "metadata": {},
   "outputs": [
    {
     "data": {
      "text/plain": [
       "Single Family    906\n",
       "MISSING           44\n",
       "Townhouse         27\n",
       "Multiplex         14\n",
       "Name: PropertyType, dtype: int64"
      ]
     },
     "execution_count": 15,
     "metadata": {},
     "output_type": "execute_result"
    }
   ],
   "source": [
    "# There are also missing values in PropertyType.\n",
    "# Since 'PropertyType' is categorical, let's treat MISSING as another category.\n",
    "# Fill the empty values in PropertyType with the string 'MISSING'.\n",
    "# Be sure to either use inplace or store back into the existing PropertyType column.\n",
    "df.PropertyType.fillna(value='MISSING', inplace=True)\n",
    "\n",
    "# Call .value_counts() on the PropertyType column \n",
    "#   to see how many of each category exist in the dataframe.\n",
    "df.PropertyType.value_counts()"
   ]
  },
  {
   "cell_type": "code",
   "execution_count": 16,
   "metadata": {},
   "outputs": [],
   "source": [
    "# Confirm we have no missing data by asserting that the sum of df.isna() over rows and columns is equal to 0.\n",
    "assert df.isna().sum().sum() == 0"
   ]
  },
  {
   "cell_type": "code",
   "execution_count": 17,
   "metadata": {},
   "outputs": [
    {
     "data": {
      "text/html": [
       "<div>\n",
       "<style scoped>\n",
       "    .dataframe tbody tr th:only-of-type {\n",
       "        vertical-align: middle;\n",
       "    }\n",
       "\n",
       "    .dataframe tbody tr th {\n",
       "        vertical-align: top;\n",
       "    }\n",
       "\n",
       "    .dataframe thead th {\n",
       "        text-align: right;\n",
       "    }\n",
       "</style>\n",
       "<table border=\"1\" class=\"dataframe\">\n",
       "  <thead>\n",
       "    <tr style=\"text-align: right;\">\n",
       "      <th></th>\n",
       "      <th>DocumentDate</th>\n",
       "      <th>SqFtLot</th>\n",
       "      <th>SqFtLot_missing</th>\n",
       "      <th>SqFtLot_scaled</th>\n",
       "      <th>PropertyType_MISSING</th>\n",
       "      <th>PropertyType_Multiplex</th>\n",
       "      <th>PropertyType_Single Family</th>\n",
       "      <th>PropertyType_Townhouse</th>\n",
       "    </tr>\n",
       "  </thead>\n",
       "  <tbody>\n",
       "    <tr>\n",
       "      <th>0</th>\n",
       "      <td>2006-11-21</td>\n",
       "      <td>34840.0</td>\n",
       "      <td>0</td>\n",
       "      <td>0.423477</td>\n",
       "      <td>0</td>\n",
       "      <td>0</td>\n",
       "      <td>1</td>\n",
       "      <td>0</td>\n",
       "    </tr>\n",
       "    <tr>\n",
       "      <th>1</th>\n",
       "      <td>2014-03-20</td>\n",
       "      <td>8428.0</td>\n",
       "      <td>0</td>\n",
       "      <td>-0.180973</td>\n",
       "      <td>0</td>\n",
       "      <td>0</td>\n",
       "      <td>1</td>\n",
       "      <td>0</td>\n",
       "    </tr>\n",
       "    <tr>\n",
       "      <th>2</th>\n",
       "      <td>2011-07-26</td>\n",
       "      <td>6000.0</td>\n",
       "      <td>0</td>\n",
       "      <td>-0.236539</td>\n",
       "      <td>0</td>\n",
       "      <td>0</td>\n",
       "      <td>1</td>\n",
       "      <td>0</td>\n",
       "    </tr>\n",
       "  </tbody>\n",
       "</table>\n",
       "</div>"
      ],
      "text/plain": [
       "  DocumentDate  SqFtLot  SqFtLot_missing  SqFtLot_scaled  \\\n",
       "0   2006-11-21  34840.0                0        0.423477   \n",
       "1   2014-03-20   8428.0                0       -0.180973   \n",
       "2   2011-07-26   6000.0                0       -0.236539   \n",
       "\n",
       "   PropertyType_MISSING  PropertyType_Multiplex  PropertyType_Single Family  \\\n",
       "0                     0                       0                           1   \n",
       "1                     0                       0                           1   \n",
       "2                     0                       0                           1   \n",
       "\n",
       "   PropertyType_Townhouse  \n",
       "0                       0  \n",
       "1                       0  \n",
       "2                       0  "
      ]
     },
     "execution_count": 17,
     "metadata": {},
     "output_type": "execute_result"
    }
   ],
   "source": [
    "# Transform the categorical feature PropertyType using pd.get_dummies().\n",
    "# Note that we can call get_dummies on the entire dataframe and only categorical features will be transformed.\n",
    "# Store the result back into df\n",
    "df = pd.get_dummies(df)\n",
    "\n",
    "# Print out the first 3 rows of df to see the result.\n",
    "df.head(3)"
   ]
  }
 ],
 "metadata": {
  "kernelspec": {
   "display_name": "Python 3",
   "language": "python",
   "name": "python3"
  },
  "language_info": {
   "codemirror_mode": {
    "name": "ipython",
    "version": 3
   },
   "file_extension": ".py",
   "mimetype": "text/x-python",
   "name": "python",
   "nbconvert_exporter": "python",
   "pygments_lexer": "ipython3",
   "version": "3.9.7"
  }
 },
 "nbformat": 4,
 "nbformat_minor": 2
}

{
 "cells": [
  {
   "cell_type": "markdown",
   "metadata": {},
   "source": [
    "# Week 5 Quiz\n",
    "\n",
    "## Yue Wang - yw3930"
   ]
  },
  {
   "cell_type": "markdown",
   "metadata": {},
   "source": [
    "### Instructions\n",
    "\n",
    "Replace the Name and UNI in cell above and the notebook name\n",
    "\n",
    "Replace all '____' below using the instructions provided.\n",
    "\n",
    "When completed, \n",
    " - make sure you've replaced Name and UNI in the first cell and filename (eg: week_05_quiz-hw2592)\n",
    " - Click the github link shared on canvas for quiz5 to generate your own repository of quiz5\n",
    " - Click your own repository of quiz5 to commit your answers to github"
   ]
  },
  {
   "cell_type": "code",
   "execution_count": 1,
   "metadata": {},
   "outputs": [],
   "source": [
    "import pandas as pd\n",
    "import numpy as np\n",
    "import matplotlib.pyplot as plt\n",
    "import seaborn as sns\n",
    "\n",
    "sns.set_style('darkgrid')\n",
    "%matplotlib inline"
   ]
  },
  {
   "cell_type": "code",
   "execution_count": 2,
   "metadata": {},
   "outputs": [
    {
     "data": {
      "text/html": [
       "<div>\n",
       "<style scoped>\n",
       "    .dataframe tbody tr th:only-of-type {\n",
       "        vertical-align: middle;\n",
       "    }\n",
       "\n",
       "    .dataframe tbody tr th {\n",
       "        vertical-align: top;\n",
       "    }\n",
       "\n",
       "    .dataframe thead th {\n",
       "        text-align: right;\n",
       "    }\n",
       "</style>\n",
       "<table border=\"1\" class=\"dataframe\">\n",
       "  <thead>\n",
       "    <tr style=\"text-align: right;\">\n",
       "      <th></th>\n",
       "      <th>Chins</th>\n",
       "      <th>Situps</th>\n",
       "      <th>Jumps</th>\n",
       "      <th>Weight</th>\n",
       "    </tr>\n",
       "  </thead>\n",
       "  <tbody>\n",
       "    <tr>\n",
       "      <th>0</th>\n",
       "      <td>5.0</td>\n",
       "      <td>162.0</td>\n",
       "      <td>60.0</td>\n",
       "      <td>191.0</td>\n",
       "    </tr>\n",
       "    <tr>\n",
       "      <th>1</th>\n",
       "      <td>2.0</td>\n",
       "      <td>110.0</td>\n",
       "      <td>60.0</td>\n",
       "      <td>189.0</td>\n",
       "    </tr>\n",
       "    <tr>\n",
       "      <th>2</th>\n",
       "      <td>12.0</td>\n",
       "      <td>101.0</td>\n",
       "      <td>101.0</td>\n",
       "      <td>193.0</td>\n",
       "    </tr>\n",
       "  </tbody>\n",
       "</table>\n",
       "</div>"
      ],
      "text/plain": [
       "   Chins  Situps  Jumps  Weight\n",
       "0    5.0   162.0   60.0   191.0\n",
       "1    2.0   110.0   60.0   189.0\n",
       "2   12.0   101.0  101.0   193.0"
      ]
     },
     "execution_count": 2,
     "metadata": {},
     "output_type": "execute_result"
    }
   ],
   "source": [
    "# Sklearn provides a set of commonly used example datasets. \n",
    "# They can be accessed through the datasets submodule.\n",
    "from sklearn import datasets\n",
    "\n",
    "# We're going to use the Linnerud dataset to practice Regression in sklearn.\n",
    "\n",
    "# The Linnerud dataset is a tiny multi-output regression dataset. It consists \n",
    "# of three excercise (data) and three physiological (target) variables \n",
    "# collected from twenty middle-aged men in a fitness club.\n",
    "linnerud = datasets.load_linnerud()\n",
    "\n",
    "# The features of the dataset contain data on 3 exercises\n",
    "# Chins - number of chinups\n",
    "# Situps - number of situps\n",
    "# Jumps - number of jumping jacks\n",
    "\n",
    "# Note that the features and target come as numpy matrices.\n",
    "# We'll first load the features into a pandas dataframe.\n",
    "df = pd.DataFrame(linnerud.data,columns=linnerud.feature_names)\n",
    "\n",
    "# We'll also add the target to our dataframe.\n",
    "# Note also that this dataset contains multiple targets.\n",
    "# We'll only consider one of them: Weight\n",
    "df['Weight'] = linnerud.target[:,linnerud.target_names.index('Weight')]\n",
    "\n",
    "# For more information on the dataset, uncomment the print command below\n",
    "#print(linnerud.DESCR)\n",
    "\n",
    "# print the first 3 rows\n",
    "df.head(3)"
   ]
  },
  {
   "cell_type": "code",
   "execution_count": 4,
   "metadata": {},
   "outputs": [
    {
     "data": {
      "text/plain": [
       "<AxesSubplot:xlabel='Situps', ylabel='Weight'>"
      ]
     },
     "execution_count": 4,
     "metadata": {},
     "output_type": "execute_result"
    },
    {
     "data": {
      "image/png": "[encoded data removed]",
      "text/plain": [
       "<Figure size 432x288 with 1 Axes>"
      ]
     },
     "metadata": {
      "needs_background": "light"
     },
     "output_type": "display_data"
    }
   ],
   "source": [
    "# What is the relationship between Situps and Weight?\n",
    "\n",
    "# Plot a scatterplot and best-fit line for x=Situps vs y=Weight\n",
    "#    using seaborn sns.regplot()\n",
    "sns.regplot(data = df, x='Situps',y='Weight')"
   ]
  },
  {
   "cell_type": "code",
   "execution_count": 33,
   "metadata": {},
   "outputs": [
    {
     "name": "stdout",
     "output_type": "stream",
     "text": [
      "If the Situps goes up by 1, the Weight will change by: [-0.19]\n",
      "The expect weight when Situps is 0: 206.92\n"
     ]
    }
   ],
   "source": [
    "# The above plot should indicate a negative relationship \n",
    "#    between Situps and Weight\n",
    "# How much does Weight go down if Situps goes up?\n",
    "# To answer this we'll train a simple linear model.\n",
    "\n",
    "# First import LinearRegression from sklearn.linear_model\n",
    "from sklearn.linear_model import LinearRegression\n",
    "\n",
    "# Create a variable X containing the independent variable 'Situps'\n",
    "# Note that sklearn expects X to be two dimensional\n",
    "#   so you must use one of the methods discussed in class\n",
    "#   to return a two dimensional object\n",
    "X = df[['Situps']]\n",
    "# Create a variable y containing the dependent variable 'Weight'\n",
    "# Note that y should only be one dimensional, \n",
    "#    so a Series (single column of a dataframe) works fine here\n",
    "y = df['Weight']\n",
    "\n",
    "# Instantiate a LinearRegression object with default parameter settings\n",
    "#   and store as lr\n",
    "lr = LinearRegression()\n",
    "\n",
    "# Fit lr using the X and y defined above\n",
    "model = lr.fit(X,y)\n",
    "\n",
    "# Using the learned parameters in coef_ and intercept_, \n",
    "#   by how much do we expect Weight to go down when Situps goes up by 1?\n",
    "# Print with a precision of 2\n",
    "print('If the Situps goes up by 1, the Weight will change by:', np.round(model.coef_,2)) \n",
    "\n",
    "# Using the learned parameters in coef_ and intercept_, \n",
    "#   what should we expect weight to be when when Situps is 0?\n",
    "# Print with a precision of 2\n",
    "print('The expect weight when Situps is 0:', np.round(model.intercept_,2))"
   ]
  },
  {
   "cell_type": "code",
   "execution_count": 44,
   "metadata": {},
   "outputs": [
    {
     "name": "stdout",
     "output_type": "stream",
     "text": [
      "[(-0.21771646975131498, 'Situps'), (-0.47502635866380194, 'Chins'), (0.09308837062185488, 'Jumps')]\n",
      "The relationship between Jumps and Weights is positive: 0.09\n"
     ]
    }
   ],
   "source": [
    "# How is Weight related to all 3 features?\n",
    "\n",
    "# Create a list containing the 3 feature names we're interested in \n",
    "#    as strings: Chins, Situps, Jumps\n",
    "# Store as feature_names\n",
    "# We'll do this to make sure we don't include 'Weight' in the \n",
    "#    regression as an independent variable\n",
    "X = df[['Situps','Chins','Jumps']]\n",
    "\n",
    "# Instantiate a second LinearRegression model with default parameters\n",
    "#    and store as mlr\n",
    "mlr = LinearRegression()\n",
    "\n",
    "# Fit this model using all of the columns in feature_names\n",
    "# Note that here we can pass the 2D dataframe without needing to .reshape(), etc.\n",
    "model_1 = mlr.fit(X,y)\n",
    "\n",
    "# For each feature name in feature_names, print out the name and \n",
    "#    corresponding learned coefficient\n",
    "# It looks like one of the features actually has a positive relationship. \n",
    "# Print coefficient values with a precision of 2.\n",
    "print(list(zip(model_1.coef_, X.columns)))\n",
    "print('The relationship between Jumps and Weights is positive:',np.round(model_1.coef_[2],2))"
   ]
  },
  {
   "cell_type": "code",
   "execution_count": 48,
   "metadata": {},
   "outputs": [
    {
     "data": {
      "text/plain": [
       "const     208.233519\n",
       "Situps     -0.217716\n",
       "Chins      -0.475026\n",
       "Jumps       0.093088\n",
       "dtype: float64"
      ]
     },
     "execution_count": 48,
     "metadata": {},
     "output_type": "execute_result"
    }
   ],
   "source": [
    "# NOT REQUIRED\n",
    "\n",
    "# For those that are interested exploring how statsmodels works\n",
    "\n",
    "# Import the statsmodels api as sm\n",
    "import statsmodels.api as sm\n",
    "\n",
    "# Store the 3 features from df as X\n",
    "X = df[['Situps','Chins','Jumps']]\n",
    "\n",
    "# Add a constant to X (in order to learn the bias term) using sm.add_constant()\n",
    "X = sm.add_constant(X)\n",
    "\n",
    "# Instantiate and fit an OLS model using X and df.Weight as y \n",
    "#   and store as sm_model\n",
    "# Note that in OLS, the target y is the first parameter!\n",
    "sm_model = sm.OLS(y,X)\n",
    "\n",
    "\n",
    "# Display the model summary\n",
    "# Note that the coefficients in the summary match the values\n",
    "#    found above using sklearn\n",
    "results = sm_model.fit()\n",
    "results.params"
   ]
  }
 ],
 "metadata": {
  "kernelspec": {
   "display_name": "Python 3",
   "language": "python",
   "name": "python3"
  },
  "language_info": {
   "codemirror_mode": {
    "name": "ipython",
    "version": 3
   },
   "file_extension": ".py",
   "mimetype": "text/x-python",
   "name": "python",
   "nbconvert_exporter": "python",
   "pygments_lexer": "ipython3",
   "version": "3.9.7"
  }
 },
 "nbformat": 4,
 "nbformat_minor": 4
}

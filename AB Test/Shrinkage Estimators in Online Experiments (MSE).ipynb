{
 "cells": [
  {
   "cell_type": "code",
   "execution_count": 29,
   "id": "1c5bfc8b",
   "metadata": {},
   "outputs": [],
   "source": [
    "import numpy as np\n",
    "import pandas as pd\n",
    "import matplotlib.pyplot as plt\n",
    "import statsmodels.api as sm\n",
    "from scipy.optimize import minimize\n"
   ]
  },
  {
   "cell_type": "code",
   "execution_count": 30,
   "id": "052850f9",
   "metadata": {},
   "outputs": [],
   "source": [
    "def empirical_bayes_stein_shrinkage(data):\n",
    "    group_means = data.groupby(\"group\")[\"conversion\"].mean()\n",
    "    group_vars = data.groupby(\"group\")[\"conversion\"].var()\n",
    "    overall_mean = data[\"conversion\"].mean()\n",
    "    overall_var = data[\"conversion\"].var()\n",
    "    w = 1 / group_vars\n",
    "    J = len(group_means)\n",
    "    lambda_shrinkage = (J - 3) / (w.sum() - J)\n",
    "    mu_hat = (1 - lambda_shrinkage) * group_means + lambda_shrinkage * overall_mean\n",
    "    nu = (2 * w.sum()**2) / (w.sum()**2 - (w**2).sum())\n",
    "    sigma_hat_sq = (nu - 2) / nu * group_vars\n",
    "    delta_hat = mu_hat - mu_hat.iloc[0]\n",
    "    n = data.groupby(\"group\").size()\n",
    "    var_delta_hat = ((1 / n.iloc[0]) + (1 / n) + (w.iloc[0] / n.iloc[0]) + (w / n)) * sigma_hat_sq\n",
    "    se_delta_hat = np.sqrt(var_delta_hat)\n",
    "    return delta_hat, se_delta_hat"
   ]
  },
  {
   "cell_type": "markdown",
   "id": "40565c6d",
   "metadata": {},
   "source": [
    "This shrinkage estimator achieves lower mean squared error than simple differences-in-means estimators, particularly when there are many treatment groups and small sample sizes within each group. The paper also compare their shrinkage estimators to MLEs and differences-in-means estimators."
   ]
  },
  {
   "cell_type": "code",
   "execution_count": 31,
   "id": "445dc668",
   "metadata": {},
   "outputs": [],
   "source": [
    "def mle_estimate(data, num_bootstrap=1000):\n",
    "    original_group = data['group'].copy()\n",
    "    data = pd.get_dummies(data, columns=['group'], drop_first=True)\n",
    "    data['intercept'] = 1\n",
    "    # Fit linear regression model\n",
    "    model = sm.OLS(data[\"conversion\"], data.loc[:, \"intercept\":])\n",
    "    result = model.fit()\n",
    "    # Calculate delta_hat_mle\n",
    "    delta_hat_mle = result.params[1:]\n",
    "    # Bootstrap procedure to estimate standard errors\n",
    "    bootstrap_estimates = np.zeros((num_bootstrap, len(delta_hat_mle)))\n",
    "    for b in range(num_bootstrap):\n",
    "        bootstrap_samples = original_group.groupby(original_group).apply(lambda x: x.sample(n=len(x), replace=True)).reset_index(drop=True)\n",
    "        bootstrap_data = data.loc[bootstrap_samples.index].copy()\n",
    "        model_bootstrap = sm.OLS(bootstrap_data[\"conversion\"], bootstrap_data.loc[:, \"intercept\":])\n",
    "        result_bootstrap = model_bootstrap.fit()\n",
    "        bootstrap_estimates[b, :] = result_bootstrap.params[1:]\n",
    "    se_delta_hat_mle = np.std(bootstrap_estimates, axis=0)\n",
    "    return delta_hat_mle.mean(), se_delta_hat_mle.mean()\n",
    "\n",
    "# def mle_estimate(data):\n",
    "#     def log_likelihood(params, data):\n",
    "#         a, b = params\n",
    "#         conversion_prob = np.clip(1 / (1 + np.exp(-(a + b * (data[\"group\"] != \"A\")))), 0, 1)\n",
    "#         likelihood = data[\"conversion\"] * conversion_prob + (1 - data[\"conversion\"]) * (1 - conversion_prob)\n",
    "#         return -np.log(likelihood).sum()\n",
    "#     init_params = [0, 0]\n",
    "#     result = minimize(log_likelihood, init_params, args=(data))\n",
    "#     a_hat, b_hat = result.x\n",
    "#     delta_hat_mle = b_hat\n",
    "\n",
    "#     hessian_matrix = result.hess_inv\n",
    "#     se_delta_hat_mle = np.sqrt(hessian_matrix[1, 1])\n",
    "\n",
    "#     return delta_hat_mle, se_delta_hat_mle\n",
    "\n",
    "\n",
    "\n",
    "def differences_in_means_estimate(data):\n",
    "    # Calculate group means, group sizes, and differences in means for each treatment group\n",
    "    group_means = data.groupby(\"group\")[\"conversion\"].mean()\n",
    "    n = data.groupby(\"group\").size()\n",
    "    control_mean = group_means.iloc[0]\n",
    "    treatment_means = group_means.iloc[1:]\n",
    "    tau_j = treatment_means - control_mean\n",
    "    # Calculate average treatment effect and standard errors\n",
    "    delta_hat_means = tau_j.mean()\n",
    "    group_var = data.groupby(\"group\")[\"conversion\"].var()\n",
    "    se_delta_hat_means = np.sqrt((group_var / n).sum())\n",
    "    return delta_hat_means, se_delta_hat_means"
   ]
  },
  {
   "cell_type": "markdown",
   "id": "5a13585f",
   "metadata": {},
   "source": [
    "The paper uses a series of seventeen experiments run on Facebook from April to June 2017 to demonstrate the performance of their shrinkage estimators."
   ]
  },
  {
   "cell_type": "markdown",
   "id": "cb9cf4e6",
   "metadata": {},
   "source": [
    "The authors then simulate experiments with varying numbers of treatment groups and sample sizes within each group. So, here we generated different numbers of treatment groups and sample sizes per group, which closely mimic the paper's simulation scenarios. The visualization will compare the proposed estimator, MLE, and Differences-in-means estimator."
   ]
  },
  {
   "cell_type": "code",
   "execution_count": 32,
   "id": "1a9979c1",
   "metadata": {},
   "outputs": [],
   "source": [
    "def run_simulation(num_treatment_groups, sample_size_per_group):\n",
    "    num_users = sample_size_per_group * (num_treatment_groups + 1)\n",
    "    group = np.random.choice([\"A\"] + [f\"B{i}\" for i in range(1, num_treatment_groups + 1)], num_users, p=[1 / (num_treatment_groups + 1)] * (num_treatment_groups + 1))\n",
    "    age = np.random.normal(30, 5, num_users)\n",
    "    gender = np.random.choice([\"M\", \"F\"], num_users, p=[0.5, 0.5])\n",
    "    location = np.random.choice([\"urban\", \"rural\"], num_users, p=[0.5, 0.5])\n",
    "    true_causal_effect = np.random.normal(0, 0.1, num_users)\n",
    "    noise = np.random.normal(0, 0.1, num_users)\n",
    "    conversion_prob_raw = 0.5 + true_causal_effect * (group == \"A\") + noise\n",
    "    conversion_prob = np.clip(conversion_prob_raw, 0, 1) \n",
    "    conversion = np.random.binomial(1, conversion_prob)\n",
    "    data = pd.DataFrame({\"age\": age, \"gender\": gender, \"location\": location, \"group\": group, \"conversion\": conversion})\n",
    "    \n",
    "    delta_hat, se_delta_hat = empirical_bayes_stein_shrinkage(data)\n",
    "    delta_hat_mle, se_delta_hat_mle = mle_estimate(data)\n",
    "    delta_hat_means, se_delta_hat_means = differences_in_means_estimate(data)\n",
    "    true_effect = true_causal_effect[(group != \"A\")].mean() - true_causal_effect[(group == \"A\")].mean()\n",
    "    \n",
    "    stein_mse = np.mean((delta_hat.iloc[1:] - true_effect)**2)\n",
    "    mle_mse = np.mean((delta_hat_mle - true_effect)**2)\n",
    "    means_mse = np.mean((delta_hat_means - true_effect)**2)\n",
    "\n",
    "    return stein_mse, mle_mse, means_mse"
   ]
  },
  {
   "cell_type": "code",
   "execution_count": 33,
   "id": "85bb65de",
   "metadata": {},
   "outputs": [
    {
     "name": "stderr",
     "output_type": "stream",
     "text": [
      "<ipython-input-31-2938521dde7f>:19: RuntimeWarning: Mean of empty slice.\n",
      "  return delta_hat_mle.mean(), se_delta_hat_mle.mean()\n",
      "/Users/yuewang/opt/miniconda3/lib/python3.9/site-packages/numpy/core/_methods.py:189: RuntimeWarning: invalid value encountered in double_scalars\n",
      "  ret = ret.dtype.type(ret / rcount)\n",
      "<ipython-input-30-7596a70a6359>:10: RuntimeWarning: invalid value encountered in double_scalars\n",
      "  nu = (2 * w.sum()**2) / (w.sum()**2 - (w**2).sum())\n"
     ]
    }
   ],
   "source": [
    "simulation_scenarios = [(20, 50), (100, 10), (40, 25), (60, 15), (10, 100)]\n",
    "num_simulations = 1000\n",
    "mse_results = []\n",
    "\n",
    "for num_treatment_groups, sample_size_per_group in simulation_scenarios:\n",
    "    mse_avg = np.zeros(3)\n",
    "    for i in range(num_simulations):\n",
    "        mse = run_simulation(num_treatment_groups, sample_size_per_group)\n",
    "        mse_avg += np.array(mse)\n",
    "#         if (i + 1) % (num_simulations // 10) == 0:\n",
    "#             progress = int((i + 1) / num_simulations * 100)\n",
    "#             print(f\"Progress: {progress}%\")\n",
    "    mse_results.append(mse_avg / num_simulations)"
   ]
  },
  {
   "cell_type": "code",
   "execution_count": 23,
   "id": "9f8df711",
   "metadata": {},
   "outputs": [
    {
     "data": {
      "text/plain": [
       "[array([0.00521476, 0.09043742, 0.00526502]),\n",
       " array([0.04905568, 3.89252053, 0.02768938]),\n",
       " array([0.01022915, 0.20062696, 0.01095986]),\n",
       " array([0.01818195, 0.33429516, 0.01736873]),\n",
       " array([0.0029547 , 0.04716006, 0.00285229])]"
      ]
     },
     "execution_count": 23,
     "metadata": {},
     "output_type": "execute_result"
    }
   ],
   "source": [
    "mse_results"
   ]
  },
  {
   "cell_type": "code",
   "execution_count": 24,
   "id": "15972f18",
   "metadata": {},
   "outputs": [
    {
     "data": {
      "image/png": "[encoded data removed]",
      "text/plain": [
       "<Figure size 864x720 with 1 Axes>"
      ]
     },
     "metadata": {
      "needs_background": "light"
     },
     "output_type": "display_data"
    }
   ],
   "source": [
    "# Visualization\n",
    "mse_results = np.array(mse_results)\n",
    "x = np.arange(len(simulation_scenarios))\n",
    "fig, ax = plt.subplots(figsize=(12, 10))\n",
    "\n",
    "ax.plot(x, mse_results[:, 0], marker=\"o\", label=\"Empirical Bayes Stein-type\")\n",
    "ax.plot(x, mse_results[:, 1], marker=\"s\", label=\"MLE\")\n",
    "ax.plot(x, mse_results[:, 2], marker=\"^\", label=\"Differences-in-means\")\n",
    "\n",
    "ax.set_ylabel(\"Mean Squared Error (MSE)\")\n",
    "ax.set_title(\"MSE Comparison for Different Estimators\")\n",
    "ax.set_xticks(x)\n",
    "ax.set_xticklabels([f\"{g} groups, {s} per group\" for g, s in simulation_scenarios])\n",
    "ax.legend()\n",
    "plt.show()"
   ]
  },
  {
   "cell_type": "code",
   "execution_count": 25,
   "id": "5367f39a",
   "metadata": {},
   "outputs": [
    {
     "name": "stdout",
     "output_type": "stream",
     "text": [
      "[0.00521476 0.04905568 0.01022915 0.01818195 0.0029547 ]\n",
      "[0.09043742 3.89252053 0.20062696 0.33429516 0.04716006]\n",
      "[0.00526502 0.02768938 0.01095986 0.01736873 0.00285229]\n"
     ]
    }
   ],
   "source": [
    "print(mse_results[:, 0])\n",
    "print(mse_results[:, 1])\n",
    "print(mse_results[:, 2])"
   ]
  },
  {
   "cell_type": "markdown",
   "id": "ddd71a00",
   "metadata": {},
   "source": [
    "MLEs are commonly used in online experiments but can suffer from high variance and poor performance when there are many treatment groups and small sample sizes within each group. Differences-in-means estimators are also commonly used but can suffer from high bias when there are many treatment groups and small sample sizes within each group.the shrinkage estimators proposed in the paper achieve lower mean squared error than both MLEs and differences-in-means estimators, particularly when there are many treatment groups and small sample sizes within each group. "
   ]
  },
  {
   "cell_type": "markdown",
   "id": "6d0dc288",
   "metadata": {},
   "source": [
    "According to paper, With 20 treatment groups and a sample size of 50 within each group, the shrinkage estimator achieved an MSE of 0.0025, while the MLE had an MSE of 0.0043 and the differences-in-means estimator had an MSE of 0.0052.\n",
    "\n",
    "With 100 treatment groups and a sample size of only 10 within each group, the shrinkage estimator achieved an MSE of 0.0077, while the MLE had an MSE of 0.0124 and the differences-in-means estimator had an MSE of 0.0131. "
   ]
  },
  {
   "cell_type": "code",
   "execution_count": null,
   "id": "87982014",
   "metadata": {},
   "outputs": [],
   "source": []
  },
  {
   "cell_type": "code",
   "execution_count": null,
   "id": "52183237",
   "metadata": {},
   "outputs": [],
   "source": []
  },
  {
   "cell_type": "code",
   "execution_count": null,
   "id": "d97baf78",
   "metadata": {},
   "outputs": [],
   "source": []
  },
  {
   "cell_type": "code",
   "execution_count": null,
   "id": "b58a2ef1",
   "metadata": {},
   "outputs": [],
   "source": []
  }
 ],
 "metadata": {
  "kernelspec": {
   "display_name": "Python 3",
   "language": "python",
   "name": "python3"
  },
  "language_info": {
   "codemirror_mode": {
    "name": "ipython",
    "version": 3
   },
   "file_extension": ".py",
   "mimetype": "text/x-python",
   "name": "python",
   "nbconvert_exporter": "python",
   "pygments_lexer": "ipython3",
   "version": "3.9.7"
  }
 },
 "nbformat": 4,
 "nbformat_minor": 5
}

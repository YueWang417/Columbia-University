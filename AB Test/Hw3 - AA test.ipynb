{
 "cells": [
  {
   "cell_type": "code",
   "execution_count": 89,
   "id": "56188a29",
   "metadata": {},
   "outputs": [],
   "source": [
    "import pandas as pd\n",
    "import numpy as np\n",
    "from scipy.stats import norm\n",
    "from sklearn.utils import resample\n",
    "import matplotlib.pyplot as plt\n",
    "from scipy.stats import ttest_ind\n",
    "df = pd.read_csv(\"homework3.csv\")"
   ]
  },
  {
   "cell_type": "markdown",
   "id": "5034a227",
   "metadata": {},
   "source": [
    "# 1.1"
   ]
  },
  {
   "cell_type": "code",
   "execution_count": 90,
   "id": "e4dd69a4",
   "metadata": {},
   "outputs": [],
   "source": [
    "n_simulations = 1000\n",
    "p_values_1 = []\n",
    "for i in range(n_simulations):\n",
    "    df = df.sample(frac=1).reset_index(drop=True)\n",
    "    n = len(df)\n",
    "    control = df.iloc[:n // 2]\n",
    "    treatment = df.iloc[n // 2:]\n",
    "    # Calculate the CTR for each group and the variance of CTR using binomial distribution\n",
    "    ctr_control = control['clicks'].sum() / control['impressions'].sum()\n",
    "    ctr_treatment = treatment['clicks'].sum() / treatment['impressions'].sum()\n",
    "    var_ctr = ((ctr_control * (1 - ctr_control)) / control['impressions'].sum()) + \\\n",
    "              ((ctr_treatment * (1 - ctr_treatment)) / treatment['impressions'].sum())\n",
    "    diff_ctr = ctr_treatment - ctr_control\n",
    "    # Calculate the standard error and z-score\n",
    "    se = np.sqrt(var_ctr)\n",
    "    z_score = diff_ctr / se\n",
    "    # Calculate the \n",
    "    p_value = 2 * norm.cdf(-np.abs(z_score))\n",
    "    p_values_1.append(p_value)"
   ]
  },
  {
   "cell_type": "code",
   "execution_count": 91,
   "id": "2c27ec03",
   "metadata": {},
   "outputs": [
    {
     "data": {
      "image/png": "[encoded data removed]",
      "text/plain": [
       "<Figure size 432x288 with 1 Axes>"
      ]
     },
     "metadata": {
      "needs_background": "light"
     },
     "output_type": "display_data"
    }
   ],
   "source": [
    "plt.hist(p_values_1, bins=30)\n",
    "plt.xlabel('P-value')\n",
    "plt.ylabel('Frequency')\n",
    "plt.title('Distribution of P-values using sample variance under iid')\n",
    "plt.show()"
   ]
  },
  {
   "cell_type": "markdown",
   "id": "f1fae10d",
   "metadata": {},
   "source": [
    "It seems that the distribution of p-values is highly skewed, with the majority of p-values being small. This suggests that there may be some evidence of a statistically significant difference between the treatment and control groups."
   ]
  },
  {
   "cell_type": "markdown",
   "id": "01332329",
   "metadata": {},
   "source": [
    "# 1.2"
   ]
  },
  {
   "cell_type": "code",
   "execution_count": 92,
   "id": "9f6ae830",
   "metadata": {},
   "outputs": [
    {
     "data": {
      "image/png": "[encoded data removed]",
      "text/plain": [
       "<Figure size 432x288 with 1 Axes>"
      ]
     },
     "metadata": {
      "needs_background": "light"
     },
     "output_type": "display_data"
    }
   ],
   "source": [
    "df = pd.read_csv(\"homework3.csv\")\n",
    "Yi = df.groupby(df.index)[\"clicks\"].sum()\n",
    "Ki = df.groupby(df.index)[\"impressions\"].count()\n",
    "var_Yi = np.var(Yi)\n",
    "var_Ki = np.var(Ki)\n",
    "cov_Yi_Ki = np.cov(Yi, Ki)[0][1]\n",
    "X_bar_values = []\n",
    "var_X_bar_values = []\n",
    "\n",
    "for i in range(n_simulations):\n",
    "    # randomly split users into two groups\n",
    "    control = df.sample(frac=0.5)\n",
    "    treatment = df.drop(control.index)\n",
    "    # calculate Yi and Ki for each group\n",
    "    Yi_control = control.groupby(control.index)[\"clicks\"].sum()\n",
    "    Ki_control = control.groupby(control.index)[\"impressions\"].count()\n",
    "    Yi_treatment = treatment.groupby(treatment.index)[\"clicks\"].sum()\n",
    "    Ki_treatment = treatment.groupby(treatment.index)[\"impressions\"].count()\n",
    "    # calculate X_bar, var_X_\n",
    "    X_bar_control = (Yi_control / Ki_control).mean()\n",
    "    X_bar_treatment = (Yi_treatment / Ki_treatment).mean()\n",
    "    X_bar_diff = X_bar_treatment - X_bar_control\n",
    "    X_bar_values.append(X_bar_diff)\n",
    "    var_X_bar = (1/len(df))*(1/((np.mean(Ki)**2)))*((var_Yi/(np.mean(Ki)**2))+(np.mean(Yi)**2/(np.mean(Ki)**4))*var_Ki-2*(np.mean(Yi)**2/(np.mean(Ki)**3))*cov_Yi_Ki)\n",
    "    var_X_bar_values.append(var_X_bar)\n",
    "\n",
    "# calculate z-score and p-value\n",
    "z_scores = np.array(X_bar_values) / np.sqrt(np.array(var_X_bar_values))\n",
    "p_values_2 = 2 * (1 - norm.cdf(np.abs(z_scores)))\n",
    "plt.hist(p_values_2, bins=30)\n",
    "plt.xlabel(\"p-value\")\n",
    "plt.ylabel(\"frequency\")\n",
    "plt.title(\"Distribution of p-values using delta method\")\n",
    "plt.show()"
   ]
  },
  {
   "cell_type": "markdown",
   "id": "23b41de5",
   "metadata": {},
   "source": [
    "The distribution of p-values appears to be highly skewed, with the majority of p-values being small. This suggests that there is a significant difference between the two groups being tested. There may be some variability in the results. "
   ]
  },
  {
   "cell_type": "markdown",
   "id": "75de0a8f",
   "metadata": {},
   "source": [
    "# 1.3"
   ]
  },
  {
   "cell_type": "code",
   "execution_count": 93,
   "id": "03b54731",
   "metadata": {},
   "outputs": [
    {
     "data": {
      "image/png": "[encoded data removed]",
      "text/plain": [
       "<Figure size 432x288 with 1 Axes>"
      ]
     },
     "metadata": {
      "needs_background": "light"
     },
     "output_type": "display_data"
    }
   ],
   "source": [
    "df = pd.read_csv(\"homework3.csv\")\n",
    "total_clicks = df['clicks'].sum()\n",
    "total_impressions = df['impressions'].sum()\n",
    "CTR = total_clicks / total_impressions\n",
    "treatment = df.sample(frac=0.5, replace=False, random_state=42)\n",
    "control = df.drop(treatment.index)\n",
    "\n",
    "def bootstrap_t_test(df1, df2, B):\n",
    "    N1 = len(df1)\n",
    "    N2 = len(df2)\n",
    "    t_boot = []\n",
    "    for i in range(B):\n",
    "        sample1 = df1.sample(n=N1, replace=True)\n",
    "        sample2 = df2.sample(n=N2, replace=True)\n",
    "        t, p = ttest_ind(sample1['clicks'] / sample1['impressions'], \n",
    "                         sample2['clicks'] / sample2['impressions'], \n",
    "                         equal_var=False)\n",
    "        t_boot.append(t)\n",
    "    return t_boot\n",
    "\n",
    "B = 1000\n",
    "t_boot = bootstrap_t_test(treatment, control, B)\n",
    "p_values_3 = [(np.abs(t) > np.abs(np.mean(t_boot))) / B for t in t_boot]\n",
    "plt.hist(p_values, bins=30)\n",
    "plt.xlabel('p-value')\n",
    "plt.ylabel('count')\n",
    "plt.title('Distribution of p-values using user-level bootstrap method')\n",
    "plt.show()"
   ]
  },
  {
   "cell_type": "markdown",
   "id": "81647a77",
   "metadata": {},
   "source": [
    "All p-values are extremely small, this suggests strong evidence against the null hypothesis that there is no difference between the control and treatment groups. The probability of observing such a large difference in CTR by chance is less than 5%, assuming that there is no real difference in CTR between the treatment and control groups. "
   ]
  },
  {
   "cell_type": "markdown",
   "id": "437d1d9e",
   "metadata": {},
   "source": [
    "# 1.4"
   ]
  },
  {
   "cell_type": "markdown",
   "id": "6ff7fe24",
   "metadata": {},
   "source": [
    "Based on the three plots of p-value vs frequencies, we compare the proportion of p-values that are less than 0.05 for each approach. The approach that has the lowest proportion of p-values less than 0.05 is the one that passes the simulated AA test.\n",
    "\n",
    "Approach 3 shows that 100% of the p-values are less than 0.05, while the plots for approach 1 and 2 show that only 30%; respectively, approach 3 would be more likely to pass the simulated AA test."
   ]
  },
  {
   "cell_type": "code",
   "execution_count": 51,
   "id": "76dc3e0a",
   "metadata": {},
   "outputs": [],
   "source": [
    "p_values_1 = np.array(p_values_1)\n",
    "p_values_2 = np.array(p_values_2)\n",
    "p_values_3 = np.array(p_values_3)"
   ]
  },
  {
   "cell_type": "code",
   "execution_count": 52,
   "id": "42c6c254",
   "metadata": {},
   "outputs": [
    {
     "name": "stdout",
     "output_type": "stream",
     "text": [
      "Proportion of times p-value is less than or equal to 0.05:\n",
      "Approach 1: 0.287\n",
      "Approach 2: 0.336\n",
      "Approach 3: 1.0\n"
     ]
    }
   ],
   "source": [
    "prop_1 = np.mean(p_values_1 <= 0.05)\n",
    "prop_2 = np.mean(p_values_2 <= 0.05)\n",
    "prop_3 = np.mean(p_values_3 <= 0.05)\n",
    "print(\"Proportion of p-value is less than or equal to 0.05:\")\n",
    "print(\"Approach 1:\", prop_1)\n",
    "print(\"Approach 2:\", prop_2)\n",
    "print(\"Approach 3:\", prop_3)"
   ]
  },
  {
   "cell_type": "markdown",
   "id": "e3dd19a7",
   "metadata": {},
   "source": [
    "Approach 1 assumes that each observation is independent, but there may be some underlying factors that affect the click behavior of all users. Thus, approach 1 may underestimate the variance of the metric, leading to wider confidence intervals and higher p-values.\n",
    "\n",
    "Approach 2 accounts for the possible correlation of click events from the same user, which may better reflect the true variance of the metric. But, the delta method used here based on asymptotic theory, which means that it may not work well for small sample sizes or non-normal distributions. \n",
    "\n",
    "Approach 3 uses the user-level bootstrap to estimate the variance of the metric, which makes no assumptions about the underlying distribution or the correlation among users. This method may provide more accurate estimates of the variance, especially when the underlying distribution is non-normal or the sample size is small. "
   ]
  },
  {
   "cell_type": "markdown",
   "id": "7e85c856",
   "metadata": {},
   "source": [
    "# 2.1"
   ]
  },
  {
   "cell_type": "code",
   "execution_count": 47,
   "id": "85d94020",
   "metadata": {},
   "outputs": [
    {
     "data": {
      "image/png": "[encoded data removed]",
      "text/plain": [
       "<Figure size 432x288 with 1 Axes>"
      ]
     },
     "metadata": {
      "needs_background": "light"
     },
     "output_type": "display_data"
    }
   ],
   "source": [
    "df[\"CTR\"] = df[\"clicks\"] / df[\"impressions\"]\n",
    "p_values_4 = []\n",
    "for i in range(n_simulations):\n",
    "    df = df.sample(frac=1).reset_index(drop=True)\n",
    "    n = len(df)\n",
    "    control = df.iloc[:n//2]\n",
    "    treatment = df.iloc[n//2:]\n",
    "    # Calculate CTR for Treat and Control\n",
    "    ctr_control = control[\"CTR\"].mean()\n",
    "    ctr_treatment = treatment[\"CTR\"].mean()\n",
    "    var_control = ctr_control * (1 - ctr_control) / control[\"impressions\"].sum()\n",
    "    var_treatment = ctr_treatment * (1 - ctr_treatment) / treatment[\"impressions\"].sum()\n",
    "    # Calculate standard error, z-score\n",
    "    se = np.sqrt(var_control + var_treatment)\n",
    "    z_score = (ctr_treatment - ctr_control) / se\n",
    "    p_value = 2 * norm.cdf(-np.abs(z_score))\n",
    "    p_values_4.append(p_value)\n",
    "plt.hist(p_values_4, bins=30)\n",
    "plt.xlabel(\"p-value\")\n",
    "plt.ylabel(\"frequency\")\n",
    "plt.title(\"Distribution of p-values using sample variance estimation\")\n",
    "plt.show()"
   ]
  },
  {
   "cell_type": "markdown",
   "id": "3b622c8c",
   "metadata": {},
   "source": [
    "It seems that the distribution are similar to this approach in problem 1. p-values is highly skewed, with the majority of p-values being small, and there may be some evidence of a statistically significant difference between the treatment and control groups."
   ]
  },
  {
   "cell_type": "markdown",
   "id": "e4faeddd",
   "metadata": {},
   "source": [
    "# 2.2"
   ]
  },
  {
   "cell_type": "code",
   "execution_count": 68,
   "id": "3c4ab25b",
   "metadata": {},
   "outputs": [
    {
     "data": {
      "image/png": "[encoded data removed]",
      "text/plain": [
       "<Figure size 432x288 with 1 Axes>"
      ]
     },
     "metadata": {
      "needs_background": "light"
     },
     "output_type": "display_data"
    }
   ],
   "source": [
    "def bootstrap_t_test(df1, df2, B):\n",
    "    t_boot = []\n",
    "    for i in range(B):\n",
    "        sample1 = df1.sample(n=len(df1), replace=True)\n",
    "        sample2 = df2.sample(n=len(df1), replace=True)\n",
    "        t, p = ttest_ind(sample1['CTR'], sample2['CTR'], equal_var=False)\n",
    "        t_boot.append(t)\n",
    "    return t_boot\n",
    "\n",
    "B = 1000\n",
    "t_boot = bootstrap_t_test(treatment, control, B)\n",
    "p_values_5 = [(np.abs(t) > np.abs(np.mean(t_boot))) / B for t in t_boot]\n",
    "plt.hist(p_values_5, bins=20)\n",
    "plt.xlabel('p-value')\n",
    "plt.ylabel('count')\n",
    "plt.title('Distribution of p-values using user-level bootstrap method')\n",
    "plt.show()"
   ]
  },
  {
   "cell_type": "markdown",
   "id": "e39f3257",
   "metadata": {},
   "source": [
    "It has similar result that all p-values are extremely small, as treatment has a significant impact on CTR, it suggests strong evidence against the null hypothesis that there is no difference between the control and treatment groups. "
   ]
  },
  {
   "cell_type": "markdown",
   "id": "cb7478f3",
   "metadata": {},
   "source": [
    "# 2.3"
   ]
  },
  {
   "cell_type": "code",
   "execution_count": 56,
   "id": "538e0909",
   "metadata": {},
   "outputs": [
    {
     "name": "stdout",
     "output_type": "stream",
     "text": [
      "Proportion of p-value is less than or equal to 0.05:\n",
      "Approach 4: 0.286\n",
      "Approach 4: 1.0\n"
     ]
    }
   ],
   "source": [
    "p_values_4 = np.array(p_values_4)\n",
    "p_values_5 = np.array(p_values_5)\n",
    "prop_4 = np.mean(p_values_4 <= 0.05)\n",
    "prop_5 = np.mean(p_values_5 <= 0.05)\n",
    "print(\"Proportion of p-value is less than or equal to 0.05:\")\n",
    "print(\"Approach 4:\", prop_4)\n",
    "print(\"Approach 5:\", prop_5)"
   ]
  },
  {
   "cell_type": "markdown",
   "id": "b21923a3",
   "metadata": {},
   "source": [
    "The p-value results for the two approaches in Problem 1 and Problem 2 are similar, it could indicate that the independence assumption holds true."
   ]
  },
  {
   "cell_type": "markdown",
   "id": "fb4146dc",
   "metadata": {},
   "source": [
    "# 2.4"
   ]
  },
  {
   "cell_type": "markdown",
   "id": "51fa794a",
   "metadata": {},
   "source": [
    "Single average CTR gives an overall view of how the ad is performing, but it doesn't take into account the variability across users. Double average CTR calculates the user-level CTR first, and then takes the average across all users, which gives a more detailed view of how the ad is performing. By calculating the user-level CTR first, we can identify which users are performing better or worse than the overall average.\n",
    "\n",
    "The pros for single average CTR: simple for calculation.It can be helpful when comparing ads with different targets.\n",
    "The pros for double average CTR: takes the variability across users into account, which can help identify which users are contributing most to the overall campaign performance. \n",
    "\n",
    "The cons for single average CTR: as it doesn't take into account the variability across users, which can lead to overgeneralization.\n",
    "The cons for double average CTR: complex to calculate. If the user-level CTRs are highly variable, the overall double average CTR cannot provide a meaningful comparison."
   ]
  },
  {
   "cell_type": "code",
   "execution_count": null,
   "id": "16ace5d5",
   "metadata": {},
   "outputs": [],
   "source": []
  },
  {
   "cell_type": "code",
   "execution_count": null,
   "id": "8774d58e",
   "metadata": {},
   "outputs": [],
   "source": [
    "_"
   ]
  }
 ],
 "metadata": {
  "kernelspec": {
   "display_name": "Python 3",
   "language": "python",
   "name": "python3"
  },
  "language_info": {
   "codemirror_mode": {
    "name": "ipython",
    "version": 3
   },
   "file_extension": ".py",
   "mimetype": "text/x-python",
   "name": "python",
   "nbconvert_exporter": "python",
   "pygments_lexer": "ipython3",
   "version": "3.9.7"
  }
 },
 "nbformat": 4,
 "nbformat_minor": 5
}
